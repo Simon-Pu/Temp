{
  "nbformat": 4,
  "nbformat_minor": 0,
  "metadata": {
    "colab": {
      "name": "Copy of yolov5_gradio_pytorchdemo.ipynb",
      "provenance": [],
      "collapsed_sections": [],
      "include_colab_link": true
    },
    "language_info": {
      "name": "python"
    },
    "kernelspec": {
      "name": "python3",
      "display_name": "Python 3"
    },
    "accelerator": "GPU"
  },
  "cells": [
    {
      "cell_type": "markdown",
      "metadata": {
        "id": "view-in-github",
        "colab_type": "text"
      },
      "source": [
        "<a href=\"https://colab.research.google.com/github/Simon-Pu/Temp/blob/master/yolov5_gradio_pytorchdemo.ipynb\" target=\"_parent\"><img src=\"https://colab.research.google.com/assets/colab-badge.svg\" alt=\"Open In Colab\"/></a>"
      ]
    },
    {
      "cell_type": "markdown",
      "metadata": {
        "id": "i3v8jL0u2aq2"
      },
      "source": [
        "## Model Description\n",
        "\n",
        "YOLOv5 is a family of compound-scaled object detection models trained on the COCO dataset, and includes simple functionality for Test Time Augmentation (TTA), model ensembling, hyperparameter evolution, and export to ONNX, CoreML and TFLite.\n",
        "\n",
        "\n",
        "## Gradio Interface\n",
        "\n",
        "![](https://i.ibb.co/982NS6m/header.png)"
      ]
    },
    {
      "cell_type": "markdown",
      "metadata": {
        "id": "wyDlNXcg2aqv"
      },
      "source": [
        "### This notebook is optionally accelerated with a GPU runtime.\n",
        "### If you would like to use this acceleration, please select the menu option \"Runtime\" -> \"Change runtime type\", select \"Hardware Accelerator\" -> \"GPU\" and click \"SAVE\"\n",
        "\n",
        "----------------------------------------------------------------------\n",
        "\n",
        "# YOLOv5 Gradio demo\n",
        "\n",
        "*Author: Ultralytics LLC and Gradio*"
      ]
    },
    {
      "cell_type": "code",
      "metadata": {
        "id": "cShW8w2L2aq1"
      },
      "source": [
        "!pip install -qr https://raw.githubusercontent.com/ultralytics/yolov5/master/requirements.txt gradio # install dependencies"
      ],
      "execution_count": null,
      "outputs": []
    },
    {
      "cell_type": "code",
      "metadata": {
        "id": "FQBY9vZJ2aq3"
      },
      "source": [
        "import gradio as gr\n",
        "import torch\n",
        "from PIL import Image\n",
        "\n",
        "# Images\n",
        "torch.hub.download_url_to_file('https://github.com/ultralytics/yolov5/raw/master/data/images/zidane.jpg', 'zidane.jpg')\n",
        "torch.hub.download_url_to_file('https://github.com/ultralytics/yolov5/raw/master/data/images/bus.jpg', 'bus.jpg')\n",
        "\n",
        "# Model\n",
        "model = torch.hub.load('ultralytics/yolov5', 'yolov5x')  # force_reload=True to update\n",
        "\n",
        "\n",
        "def yolo(im, size=640):\n",
        "    g = (size / max(im.size))  # gain\n",
        "    im = im.resize((int(x * g) for x in im.size), Image.ANTIALIAS)  # resize\n",
        "\n",
        "    results = model(im)  # inference\n",
        "    results.render()  # updates results.imgs with boxes and labels\n",
        "    return Image.fromarray(results.imgs[0])\n",
        "\n",
        "\n",
        "inputs = gr.inputs.Image(type='pil', label=\"Original Image\")\n",
        "outputs = gr.outputs.Image(type=\"pil\", label=\"Output Image\")\n",
        "\n",
        "title = \"YOLOv5\"\n",
        "description = \"YOLOv5 Gradio demo for object detection. Upload an image or click an example image to use.\"\n",
        "article = \"<p style='text-align: center'>YOLOv5 is a family of compound-scaled object detection models trained on the COCO dataset, and includes \" \\\n",
        "          \"simple functionality for Test Time Augmentation (TTA), model ensembling, hyperparameter evolution, \" \\\n",
        "          \"and export to ONNX, CoreML and TFLite. <a href='https://github.com/ultralytics/yolov5'>Source code</a> |\" \\\n",
        "          \"<a href='https://apps.apple.com/app/id1452689527'>iOS App</a> | <a href='https://pytorch.org/hub/ultralytics_yolov5'>PyTorch Hub</a></p>\"\n",
        "\n",
        "examples = [['zidane.jpg'], ['bus.jpg']]\n",
        "gr.Interface(yolo, inputs, outputs, title=title, description=description, article=article, examples=examples, analytics_enabled=False).launch(\n",
        "    debug=True)"
      ],
      "execution_count": null,
      "outputs": []
    },
    {
      "cell_type": "markdown",
      "metadata": {
        "id": "vJOrrTXI2aq3"
      },
      "source": [
        "For YOLOv5 PyTorch Hub inference with **PIL**, **OpenCV**, **Numpy** or **PyTorch** inputs please see the full [YOLOv5 PyTorch Hub Tutorial](https://github.com/ultralytics/yolov5/issues/36).\n",
        "\n",
        "\n",
        "## Citation\n",
        "\n",
        "[![DOI](https://zenodo.org/badge/264818686.svg)](https://zenodo.org/badge/latestdoi/264818686)"
      ]
    }
  ]
}