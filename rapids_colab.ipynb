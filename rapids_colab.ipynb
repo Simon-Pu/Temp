{
  "nbformat": 4,
  "nbformat_minor": 0,
  "metadata": {
    "colab": {
      "name": "rapids-colab.ipynb",
      "provenance": [],
      "collapsed_sections": [],
      "include_colab_link": true
    },
    "kernelspec": {
      "name": "python3",
      "display_name": "Python 3"
    },
    "accelerator": "GPU"
  },
  "cells": [
    {
      "cell_type": "markdown",
      "metadata": {
        "id": "view-in-github",
        "colab_type": "text"
      },
      "source": [
        "<a href=\"https://colab.research.google.com/github/Simon-Pu/Temp/blob/master/rapids_colab.ipynb\" target=\"_parent\"><img src=\"https://colab.research.google.com/assets/colab-badge.svg\" alt=\"Open In Colab\"/></a>"
      ]
    },
    {
      "cell_type": "markdown",
      "metadata": {
        "id": "scfLT2i0MLyD",
        "colab_type": "text"
      },
      "source": [
        "# Environment Sanity Check #\n",
        "\n",
        "Click the _Runtime_ dropdown at the top of the page, then _Change Runtime Type_ and confirm the instance type is _GPU_.\n",
        "\n",
        "Check the output of `!nvidia-smi` to make sure you've been allocated a Tesla T4, P4, or P100."
      ]
    },
    {
      "cell_type": "code",
      "metadata": {
        "id": "B0C8IV5TQnjN",
        "colab_type": "code",
        "colab": {}
      },
      "source": [
        "!nvidia-smi"
      ],
      "execution_count": 0,
      "outputs": []
    },
    {
      "cell_type": "code",
      "metadata": {
        "id": "saBdtNwgEDkE",
        "colab_type": "code",
        "colab": {}
      },
      "source": [
        "import pynvml\n",
        "\n",
        "pynvml.nvmlInit()\n",
        "handle = pynvml.nvmlDeviceGetHandleByIndex(0)\n",
        "device_name = pynvml.nvmlDeviceGetName(handle)\n",
        "\n",
        "if device_name != b'Tesla T4' and device_name != b'Tesla P100-PCIE-16GB':\n",
        "  raise Exception(\"\"\"\n",
        "    Unfortunately this instance does not have a T4 GPU.\n",
        "    \n",
        "    Please make sure you've configured Colab to request a GPU instance type.\n",
        "    \n",
        "    Sometimes Colab allocates a Tesla K80 instead of a T4. Resetting the instance.\n",
        "\n",
        "    If you get a K80 GPU, try Runtime -> Reset all runtimes...\n",
        "  \"\"\")\n",
        "else:\n",
        "  print('Woo! You got the right kind of GPU!:::', device_name)"
      ],
      "execution_count": 0,
      "outputs": []
    },
    {
      "cell_type": "markdown",
      "metadata": {
        "id": "CtNdk7PSafKP",
        "colab_type": "text"
      },
      "source": [
        "#Setup:\n",
        "Set up script installs\n",
        "1. Install most recent Miniconda release compatible with Google Colab's Python install  (3.6.7)\n",
        "1. removes incompatible files\n",
        "1. Install RAPIDS libraries\n",
        "1. Set necessary environment variables\n",
        "1. Copy RAPIDS .so files into current working directory, a workaround for conda/colab interactions\n",
        "1. If running v0.11 or higher, updates pyarrow library to 0.15.x."
      ]
    },
    {
      "cell_type": "code",
      "metadata": {
        "id": "m0jdXBRiDSzj",
        "colab_type": "code",
        "colab": {}
      },
      "source": [
        "# Install RAPIDS\n",
        "!git clone https://github.com/rapidsai/rapidsai-csp-utils.git\n",
        "!bash rapidsai-csp-utils/colab/rapids-colab.sh\n",
        "\n",
        "import sys, os\n",
        "\n",
        "dist_package_index = sys.path.index('/usr/local/lib/python3.6/dist-packages')\n",
        "sys.path = sys.path[:dist_package_index] + ['/usr/local/lib/python3.6/site-packages'] + sys.path[dist_package_index:]\n",
        "sys.path\n",
        "exec(open('rapidsai-csp-utils/colab/update_modules.py').read(), globals())"
      ],
      "execution_count": 0,
      "outputs": []
    },
    {
      "cell_type": "markdown",
      "metadata": {
        "id": "9oOCJ4NYMjY7",
        "colab_type": "text"
      },
      "source": [
        "# cuDF and cuML Examples #\n",
        "\n",
        "Now you can run code! \n",
        "\n",
        "What follows are basic examples where all processing takes place on the GPU."
      ]
    },
    {
      "cell_type": "markdown",
      "metadata": {
        "id": "V38dg-oUJtEO",
        "colab_type": "text"
      },
      "source": [
        "#[cuDF](https://github.com/rapidsai/cudf)#\n",
        "\n",
        "Load a dataset into a GPU memory resident DataFrame and perform a basic calculation.\n",
        "\n",
        "Everything from CSV parsing to calculating tip percentage and computing a grouped average is done on the GPU.\n",
        "\n",
        "_Note_: You must import nvstrings and nvcategory before cudf, else you'll get errors."
      ]
    },
    {
      "cell_type": "code",
      "metadata": {
        "id": "EwaJSKuswsNi",
        "colab_type": "code",
        "colab": {}
      },
      "source": [
        "import cudf\n",
        "import io, requests\n",
        "\n",
        "# download CSV file from GitHub\n",
        "url=\"https://github.com/plotly/datasets/raw/master/tips.csv\"\n",
        "content = requests.get(url).content.decode('utf-8')\n",
        "\n",
        "# read CSV from memory\n",
        "tips_df = cudf.read_csv(io.StringIO(content))\n",
        "tips_df['tip_percentage'] = tips_df['tip']/tips_df['total_bill']*100\n",
        "\n",
        "# display average tip by dining party size\n",
        "print(tips_df.groupby('size').tip_percentage.mean())"
      ],
      "execution_count": 0,
      "outputs": []
    },
    {
      "cell_type": "markdown",
      "metadata": {
        "id": "Ul3UZJdUJqlT",
        "colab_type": "text"
      },
      "source": [
        "#[cuML](https://github.com/rapidsai/cuml)#\n",
        "\n",
        "This snippet loads a \n",
        "\n",
        "As above, all calculations are performed on the GPU."
      ]
    },
    {
      "cell_type": "code",
      "metadata": {
        "id": "dCE8WhO3HpL_",
        "colab_type": "code",
        "colab": {}
      },
      "source": [
        "import cuml\n",
        "\n",
        "# Create and populate a GPU DataFrame\n",
        "df_float = cudf.DataFrame()\n",
        "df_float['0'] = [1.0, 2.0, 5.0]\n",
        "df_float['1'] = [4.0, 2.0, 1.0]\n",
        "df_float['2'] = [4.0, 2.0, 1.0]\n",
        "\n",
        "# Setup and fit clusters\n",
        "dbscan_float = cuml.DBSCAN(eps=1.0, min_samples=1)\n",
        "dbscan_float.fit(df_float)\n",
        "\n",
        "print(dbscan_float.labels_)"
      ],
      "execution_count": 0,
      "outputs": []
    },
    {
      "cell_type": "code",
      "metadata": {
        "id": "TMCDAbETJYcG",
        "colab_type": "code",
        "colab": {}
      },
      "source": [
        "# UMAP Supervised Demo (https://github.com/rapidsai/cuml/blob/branch-0.13/notebooks/umap_supervised_demo.ipynb)\n",
        "# Fashion-MNIST dataset https://github.com/zalandoresearch/fashion-mnist\n",
        "!wget http://fashion-mnist.s3-website.eu-central-1.amazonaws.com/train-images-idx3-ubyte.gz\n",
        "!wget http://fashion-mnist.s3-website.eu-central-1.amazonaws.com/train-labels-idx1-ubyte.gz\n",
        "!ls"
      ],
      "execution_count": 0,
      "outputs": []
    },
    {
      "cell_type": "code",
      "metadata": {
        "id": "Na67jluLLAYL",
        "colab_type": "code",
        "colab": {}
      },
      "source": [
        "import os\n",
        "import pandas as pd\n",
        "import numpy as np\n",
        "\n",
        "# libraries for scoring/clustering\n",
        "from sklearn.manifold.t_sne import trustworthiness\n",
        "\n",
        "# GPU UMAP\n",
        "import cudf\n",
        "from cuml.manifold.umap import UMAP as cumlUMAP\n",
        "\n",
        "# plotting\n",
        "import seaborn as sns\n",
        "import matplotlib as mpl\n",
        "import matplotlib.pyplot as plt\n",
        "%matplotlib inline\n",
        "sns.set(style='white', rc={'figure.figsize':(25, 12.5)})"
      ],
      "execution_count": 0,
      "outputs": []
    },
    {
      "cell_type": "code",
      "metadata": {
        "id": "CZnnr6HQJ9pQ",
        "colab_type": "code",
        "colab": {}
      },
      "source": [
        "# Helper Functions\n",
        "# Load The Data\n",
        "# https://github.com/zalandoresearch/fashion-mnist/blob/master/utils/mnist_reader.py\n",
        "def load_mnist(path, kind='train'):\n",
        "    import os\n",
        "    import gzip\n",
        "    import numpy as np\n",
        "\n",
        "    \"\"\"Load MNIST data from `path`\"\"\"\n",
        "    labels_path = os.path.join(path,\n",
        "                               '%s-labels-idx1-ubyte.gz'\n",
        "                               % kind)\n",
        "    images_path = os.path.join(path,\n",
        "                               '%s-images-idx3-ubyte.gz'\n",
        "                               % kind)\n",
        "\n",
        "    with gzip.open(labels_path, 'rb') as lbpath:\n",
        "        labels = np.frombuffer(lbpath.read(), dtype=np.uint8,\n",
        "                               offset=8)\n",
        "\n",
        "    with gzip.open(images_path, 'rb') as imgpath:\n",
        "        images = np.frombuffer(imgpath.read(), dtype=np.uint8,\n",
        "                               offset=16).reshape(len(labels), 784)\n",
        "\n",
        "    return images, labels"
      ],
      "execution_count": 0,
      "outputs": []
    },
    {
      "cell_type": "code",
      "metadata": {
        "id": "n5-7R7GDKH68",
        "colab_type": "code",
        "colab": {}
      },
      "source": [
        "#Training\n",
        "train, train_labels = load_mnist('./', kind='train')\n",
        "test, test_labels = load_mnist('./', kind='train')\n",
        "data = (np.array(np.vstack([train, test]), dtype=np.float64) [:60000]/ 255.0).astype(np.float32)\n",
        "target = np.array(np.hstack([train_labels, test_labels]))[:60000].astype(np.float32)"
      ],
      "execution_count": 0,
      "outputs": []
    },
    {
      "cell_type": "code",
      "metadata": {
        "id": "3c_QvDFmLKZU",
        "colab_type": "code",
        "colab": {}
      },
      "source": [
        "f\"Train shape: {train.shape} and Test Shape: {test.shape}\"\n",
        "train[0].shape"
      ],
      "execution_count": 0,
      "outputs": []
    },
    {
      "cell_type": "code",
      "metadata": {
        "id": "oh_R6ItSLSbL",
        "colab_type": "code",
        "colab": {}
      },
      "source": [
        "# display a Nike? sneaker\n",
        "pixels = train[0].reshape((28, 28))\n",
        "plt.imshow(pixels, cmap='gray')"
      ],
      "execution_count": 0,
      "outputs": []
    },
    {
      "cell_type": "code",
      "metadata": {
        "id": "YyUQ0n4RLZC6",
        "colab_type": "code",
        "colab": {}
      },
      "source": [
        "%%time\n",
        "record_data = (('fea%d'%i, data[:,i]) for i in range(data.shape[1]))\n",
        "gdf = cudf.DataFrame()\n",
        "for i in range(data.shape[1]):\n",
        "    gdf['fea%d'%i] = data[:,i]\n",
        "\n",
        "target_gdf = cudf.DataFrame()\n",
        "target_gdf['fea0'] = target"
      ],
      "execution_count": 0,
      "outputs": []
    },
    {
      "cell_type": "code",
      "metadata": {
        "id": "RfwQH3FBLfMN",
        "colab_type": "code",
        "colab": {}
      },
      "source": [
        "import time\n",
        "start = time.time()\n",
        "g_embedding_supervised = cumlUMAP(verbose = False, n_neighbors=5, init=\"spectral\", target_metric = \"categorical\").fit_transform(gdf, target_gdf)\n",
        "print(\"Took %f sec.\" % (time.time() - start))"
      ],
      "execution_count": 0,
      "outputs": []
    },
    {
      "cell_type": "code",
      "metadata": {
        "id": "jpEhs7TCLtdx",
        "colab_type": "code",
        "colab": {}
      },
      "source": [
        "start = time.time()\n",
        "g_embedding = cumlUMAP(n_neighbors=5, init=\"spectral\").fit_transform(gdf)\n",
        "print(\"Took %f sec.\" % (time.time() - start))"
      ],
      "execution_count": 0,
      "outputs": []
    },
    {
      "cell_type": "code",
      "metadata": {
        "id": "hmPQxJJML0SF",
        "colab_type": "code",
        "colab": {}
      },
      "source": [
        "#Visualization\n",
        "classes = [\n",
        "    'T-shirt/top',\n",
        "    'Trouser',\n",
        "    'Pullover',\n",
        "    'Dress',\n",
        "    'Coat',\n",
        "    'Sandal',\n",
        "    'Shirt',\n",
        "    'Sneaker',\n",
        "    'Bag',\n",
        "    'Ankle boot']"
      ],
      "execution_count": 0,
      "outputs": []
    },
    {
      "cell_type": "code",
      "metadata": {
        "id": "7aSecFKGL7gT",
        "colab_type": "code",
        "colab": {}
      },
      "source": [
        "g_embedding_supervised_numpy = g_embedding_supervised.to_pandas().values #it is necessary to convert to numpy array to do the visual mapping\n",
        "\n",
        "fig, ax = plt.subplots(1, figsize=(14, 10))\n",
        "plt.scatter(g_embedding_supervised_numpy[:,1], g_embedding_supervised_numpy[:,0], s=0.3, c=target, cmap='Spectral', alpha=1.0)\n",
        "plt.setp(ax, xticks=[], yticks=[])\n",
        "cbar = plt.colorbar(boundaries=np.arange(11)-0.5)\n",
        "cbar.set_ticks(np.arange(10))\n",
        "cbar.set_ticklabels(classes)\n",
        "plt.title('Supervised Fashion MNIST Embedded via cumlUMAP');"
      ],
      "execution_count": 0,
      "outputs": []
    },
    {
      "cell_type": "code",
      "metadata": {
        "id": "whIsvaIfMH4C",
        "colab_type": "code",
        "colab": {}
      },
      "source": [
        "# Comparison of Implementations\n",
        "\n",
        "g_embedding_numpy = g_embedding.to_pandas().values #it is necessary to convert to numpy array to do the visual mapping\n",
        "\n",
        "fig, ax = plt.subplots(nrows=1, ncols=2, figsize=(20, 10))\n",
        "ax[0].scatter(g_embedding_numpy[:,1], g_embedding_numpy[:,0], s=0.3, c=target, cmap='Spectral', alpha=1.0)\n",
        "im = ax[1].scatter(g_embedding_supervised_numpy[:,1], g_embedding_supervised_numpy[:,0], s=0.3, c=target, cmap='Spectral', alpha=1.0)\n",
        "ax[0].set_title('Unsupervised Fashion MNIST Embedded via cumlUMAP ');\n",
        "ax[1].set_title('Supervised Fashion MNIST Embedded via UMAP');\n",
        "\n",
        "fig.subplots_adjust(right=0.8)\n",
        "cax,kw = mpl.colorbar.make_axes([a for a in ax.flat])\n",
        "cbar = plt.colorbar(im, cax=cax, **kw)\n",
        "cbar.set_ticks(np.arange(10))\n",
        "cbar.set_ticklabels(classes)"
      ],
      "execution_count": 0,
      "outputs": []
    },
    {
      "cell_type": "code",
      "metadata": {
        "id": "u-X2ttkhNQAJ",
        "colab_type": "code",
        "colab": {}
      },
      "source": [
        "# TSNE Demo\n",
        "# https://github.com/rapidsai/cuml/blob/branch-0.13/notebooks/tsne_demo.ipynb\n",
        "# Reduce Dimensionality with TSNE\n",
        "from cuml.manifold import TSNE\n",
        "\n",
        "#Load data\n",
        "train, train_labels = load_mnist('./', kind='train')\n",
        "tsne = TSNE(n_components = 2, method = 'barnes_hut', random_state=23)\n",
        "%time embedding = tsne.fit_transform(train)\n",
        "\n",
        "print(embedding[:10], embedding.shape)"
      ],
      "execution_count": 0,
      "outputs": []
    },
    {
      "cell_type": "code",
      "metadata": {
        "id": "WE8chZrzNdSd",
        "colab_type": "code",
        "colab": {}
      },
      "source": [
        "#Visualize Embedding\n",
        "fig, ax = plt.subplots(1, figsize = (14, 10))\n",
        "plt.scatter(embedding[:,1], embedding[:,0], s = 0.3, c = train_labels, cmap = 'Spectral')\n",
        "plt.setp(ax, xticks = [], yticks = [])\n",
        "cbar = plt.colorbar(boundaries = np.arange(11)-0.5)\n",
        "cbar.set_ticks(np.arange(10))\n",
        "cbar.set_ticklabels(classes)\n",
        "plt.title('Fashion MNIST Embedded via TSNE');"
      ],
      "execution_count": 0,
      "outputs": []
    },
    {
      "cell_type": "markdown",
      "metadata": {
        "id": "Dlsyk9m9NN2K",
        "colab_type": "text"
      },
      "source": [
        "# Next Steps #\n",
        "\n",
        "For an overview of how you can access and work with your own datasets in Colab, check out [this guide](https://towardsdatascience.com/3-ways-to-load-csv-files-into-colab-7c14fcbdcb92).\n",
        "\n",
        "For more RAPIDS examples, check out our RAPIDS notebooks repos:\n",
        "1. https://github.com/rapidsai/notebooks\n",
        "2. https://github.com/rapidsai/notebooks-contrib"
      ]
    },
    {
      "cell_type": "code",
      "metadata": {
        "id": "J6rL3vF9S9ni",
        "colab_type": "code",
        "colab": {}
      },
      "source": [
        "#\n",
        "!wget https://s3.amazonaws.com/fast-ai-imageclas/imagewoof-160.tgz\n",
        "!tar zxvf imagewoof-160.tgz\n",
        "!ls "
      ],
      "execution_count": 0,
      "outputs": []
    },
    {
      "cell_type": "code",
      "metadata": {
        "id": "GQOYZ2QjTyP-",
        "colab_type": "code",
        "colab": {}
      },
      "source": [
        "import torch\n",
        "from torchvision import transforms, datasets\n",
        "import torch.backends.cudnn as cudnn\n",
        "\n",
        "torch.cuda.set_device(0)\n",
        "cudnn.benchmark = True\n",
        "\n",
        "#查看显存、温度、风扇、电源\n",
        "handle = pynvml.nvmlDeviceGetHandleByIndex(0)\n",
        "info = pynvml.nvmlDeviceGetMemoryInfo(handle)\n",
        "print(\"Memory Total: \",info.total)\n",
        "print(\"Memory Free: \",info.free)\n",
        "print(\"Memory Used: \",info.used)\n",
        "\n",
        "# Data loading code\n",
        "traindir = os.path.join('./imagewoof-160', 'train')\n",
        "print(traindir)\n",
        "data_transform = transforms.Compose([\n",
        "        transforms.RandomResizedCrop(160),\n",
        "        #transforms.RandomHorizontalFlip(),\n",
        "        transforms.ToTensor(),\n",
        "        transforms.Normalize(mean=[0.485, 0.456, 0.406],\n",
        "                             std=[0.229, 0.224, 0.225])\n",
        "    ])\n",
        "hymenoptera_dataset = datasets.ImageFolder(traindir,\n",
        "                                           transform=data_transform)\n",
        "dataset_loader = torch.utils.data.DataLoader(hymenoptera_dataset,\n",
        "                                             batch_size=256, shuffle=True,\n",
        "                                             num_workers=4)\n"
      ],
      "execution_count": 0,
      "outputs": []
    },
    {
      "cell_type": "code",
      "metadata": {
        "id": "F27Fq4JxWEYm",
        "colab_type": "code",
        "colab": {}
      },
      "source": [
        "from cuml.decomposition import PCA as cuPCA\n",
        "\n",
        "for i, (images, target) in enumerate(dataset_loader):\n",
        "    print(\"Memory Free: \",info.free)\n",
        "    print(\"Memory Used: \",info.used)\n",
        "    images = images.cuda(0, non_blocking=True)\n",
        "    target = target.cuda(0, non_blocking=True)\n",
        "    #%%time\n",
        "    pca_cuml = cuPCA(n_components=2, svd_solver=\"full\", whiten=False, random_state=23)\n",
        "    result_cuml = pca_cuml.fit_transform(images)\n",
        "    tsne = TSNE(n_components = 2, method = 'barnes_hut', random_state=23)\n",
        "    #%time \n",
        "    embedding += tsne.fit_transform(result_cuml)\n",
        "\n",
        "print(embedding[:10], embedding.shape) \n"
      ],
      "execution_count": 0,
      "outputs": []
    },
    {
      "cell_type": "code",
      "metadata": {
        "id": "SFaQ6UhAkGzC",
        "colab_type": "code",
        "colab": {}
      },
      "source": [
        "#Visualize Embedding\n",
        "fig, ax = plt.subplots(1, figsize = (14, 10))\n",
        "plt.scatter(embedding[:,1], embedding[:,0], s = 0.3, c = train_labels, cmap = 'Spectral')\n",
        "plt.setp(ax, xticks = [], yticks = [])\n",
        "cbar = plt.colorbar(boundaries = np.arange(11)-0.5)\n",
        "cbar.set_ticks(np.arange(10))\n",
        "cbar.set_ticklabels(classes)\n",
        "plt.title('Imagewoof Embedded via TSNE');"
      ],
      "execution_count": 0,
      "outputs": []
    }
  ]
}