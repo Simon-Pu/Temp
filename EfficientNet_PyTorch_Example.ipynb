{
  "nbformat": 4,
  "nbformat_minor": 0,
  "metadata": {
    "colab": {
      "name": "EfficientNet PyTorch Example",
      "provenance": [],
      "collapsed_sections": []
    },
    "kernelspec": {
      "name": "python3",
      "display_name": "Python 3"
    },
    "accelerator": "GPU"
  },
  "cells": [
    {
      "cell_type": "code",
      "metadata": {
        "id": "ZQPjQivwywhV",
        "colab_type": "code",
        "colab": {}
      },
      "source": [
        "!nvidia-smi\n",
        "# Download image and class labels\n",
        "!wget https://raw.githubusercontent.com/lukemelas/EfficientNet-PyTorch/master/examples/simple/img.jpg\n",
        "!wget https://raw.githubusercontent.com/lukemelas/EfficientNet-PyTorch/master/examples/simple/labels_map.txt"
      ],
      "execution_count": 0,
      "outputs": []
    },
    {
      "cell_type": "code",
      "metadata": {
        "id": "Ma1EIr7UyCOE",
        "colab_type": "code",
        "colab": {}
      },
      "source": [
        "# Get EfficientNet PyTorch\n",
        "!pip install efficientnet_pytorch"
      ],
      "execution_count": 0,
      "outputs": []
    },
    {
      "cell_type": "code",
      "metadata": {
        "id": "MpcopDTyyFzR",
        "colab_type": "code",
        "colab": {}
      },
      "source": [
        "import json\n",
        "from PIL import Image\n",
        "import numpy as np\n",
        "\n",
        "import torch\n",
        "import torchvision\n",
        "import torchvision\n",
        "import torchvision.transforms as transforms\n",
        "import torch.backends.cudnn as cudnn\n",
        "from torch.autograd import Variable\n",
        "#from torchvision import transforms\n",
        "\n",
        "from efficientnet_pytorch import EfficientNet"
      ],
      "execution_count": 0,
      "outputs": []
    },
    {
      "cell_type": "code",
      "metadata": {
        "id": "Y5D5FWdfyFma",
        "colab_type": "code",
        "colab": {}
      },
      "source": [
        "seed = 0\n",
        "gpu = 0\n",
        "\n",
        "np.random.seed(seed)\n",
        "torch.cuda.set_device(gpu)\n",
        "cudnn.benchmark = True\n",
        "torch.manual_seed(seed)\n",
        "cudnn.enabled = True\n",
        "torch.cuda.manual_seed(seed)\n",
        "\n",
        "model_name = 'efficientnet-b0'\n",
        "image_size = EfficientNet.get_image_size(model_name) # 224"
      ],
      "execution_count": 0,
      "outputs": []
    },
    {
      "cell_type": "code",
      "metadata": {
        "id": "sb13T_M0yFb1",
        "colab_type": "code",
        "colab": {}
      },
      "source": [
        "img = Image.open('img.jpg')\n",
        "#img"
      ],
      "execution_count": 0,
      "outputs": []
    },
    {
      "cell_type": "code",
      "metadata": {
        "id": "RzgmGb73yFNj",
        "colab_type": "code",
        "colab": {}
      },
      "source": [
        "# Preprocess image\n",
        "tfms = transforms.Compose([transforms.Resize(image_size), transforms.CenterCrop(image_size), \n",
        "                           transforms.ToTensor(),\n",
        "                           transforms.Normalize([0.485, 0.456, 0.406], [0.229, 0.224, 0.225]),])\n",
        "img = tfms(img).unsqueeze(0)\n",
        "img = Variable(img)\n",
        "img = img.cuda()"
      ],
      "execution_count": 0,
      "outputs": []
    },
    {
      "cell_type": "code",
      "metadata": {
        "id": "OeK5JBQ8yE-Y",
        "colab_type": "code",
        "colab": {}
      },
      "source": [
        "# Load class names\n",
        "labels_map = json.load(open('labels_map.txt'))\n",
        "labels_map = [labels_map[str(i)] for i in range(1000)]"
      ],
      "execution_count": 0,
      "outputs": []
    },
    {
      "cell_type": "code",
      "metadata": {
        "id": "PfDtoYnlzP9m",
        "colab_type": "code",
        "colab": {}
      },
      "source": [
        "# Classify with EfficientNet\n",
        "model = EfficientNet.from_pretrained(model_name)\n",
        "model = model.cuda()\n",
        "#model.cuda()\n",
        "model.eval()\n",
        "with torch.no_grad():\n",
        "    logits = model(img)\n",
        "preds = torch.topk(logits, k=5).indices.squeeze(0).tolist()\n",
        "\n",
        "print('-----')\n",
        "for idx in preds:\n",
        "    label = labels_map[idx]\n",
        "    prob = torch.softmax(logits, dim=1)[0, idx].item()\n",
        "    print('{:<75} ({:.2f}%)'.format(label, prob*100))\n",
        "\n",
        "# How to profiling layer-by-layer in Pytroch?\n",
        "with torch.autograd.profiler.profile(use_cuda=True) as prof:\n",
        "    model(img)\n",
        "print(prof) "
      ],
      "execution_count": 0,
      "outputs": []
    },
    {
      "cell_type": "code",
      "metadata": {
        "id": "xJaDHFQjJFDV",
        "colab_type": "code",
        "colab": {}
      },
      "source": [
        "!wget https://s3.amazonaws.com/fast-ai-imageclas/imagewoof.tgz\n",
        "!tar zxvf imagewoof.tgz\n"
      ],
      "execution_count": 0,
      "outputs": []
    },
    {
      "cell_type": "code",
      "metadata": {
        "id": "X_Ul4BApL3nd",
        "colab_type": "code",
        "colab": {}
      },
      "source": [
        "!ls ./imagewoof/val/"
      ],
      "execution_count": 0,
      "outputs": []
    },
    {
      "cell_type": "code",
      "metadata": {
        "id": "Aqi5I_jKLpRT",
        "colab_type": "code",
        "colab": {}
      },
      "source": [
        "data_sub = './imagewoof/val/'\n",
        "batch_size = 1\n",
        "test_transform = transforms.Compose([\n",
        "            transforms.Resize(224, interpolation=Image.BICUBIC),\n",
        "            transforms.ToTensor(),\n",
        "        ])        \n",
        "test_data = torchvision.datasets.ImageFolder(root=data_sub, transform=test_transform)\n",
        "\n",
        "num_test = len(test_data)\n",
        "print (num_test)\n",
        "test_queue = torch.utils.data.DataLoader(\n",
        "            test_data,\n",
        "            batch_size=batch_size,\n",
        "            shuffle=False,\n",
        "            pin_memory=1)"
      ],
      "execution_count": 0,
      "outputs": []
    },
    {
      "cell_type": "code",
      "metadata": {
        "id": "4hTuI209KUdt",
        "colab_type": "code",
        "colab": {}
      },
      "source": [
        "confusion_matrix = torch.zeros(10, 895)\n",
        "with torch.no_grad():\n",
        "\n",
        "   for step, (input, target) in enumerate(test_queue):\n",
        "       input = Variable(input).cuda()\n",
        "       target = Variable(target).cuda(async=True)\n",
        "       #input = Variable(input)\n",
        "       #target = Variable(target)\n",
        "\n",
        "       outputs = model(input)\n",
        "       _, preds = torch.max(outputs, 1)\n",
        "       #print(preds)\n",
        "       for t, p in zip(target.view(-1), preds.view(-1)):\n",
        "           #print(t, p)\n",
        "           confusion_matrix[t.long(), p.long()] += 1\n",
        "#print(confusion_matrix)"
      ],
      "execution_count": 0,
      "outputs": []
    },
    {
      "cell_type": "code",
      "metadata": {
        "id": "HXlo2zAjieVK",
        "colab_type": "code",
        "colab": {}
      },
      "source": [
        "#print(target.view(-1))\n",
        "#print(preds.view(-1))\n",
        "#print(confusion_matrix[0,155]>=1)\n",
        "for t in range (10):\n",
        " for p in range (895): \n",
        "  if confusion_matrix[t,p]>=1:\n",
        "   print(t, p, confusion_matrix[t,p])"
      ],
      "execution_count": 0,
      "outputs": []
    },
    {
      "cell_type": "code",
      "metadata": {
        "id": "jvmLYlCAPNnE",
        "colab_type": "code",
        "colab": {}
      },
      "source": [
        "#print(confusion_matrix.diag()/confusion_matrix.sum(1))"
      ],
      "execution_count": 0,
      "outputs": []
    }
  ]
}