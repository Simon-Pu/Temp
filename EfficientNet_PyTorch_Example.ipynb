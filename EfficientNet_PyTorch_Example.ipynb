{
  "nbformat": 4,
  "nbformat_minor": 0,
  "metadata": {
    "colab": {
      "name": "EfficientNet PyTorch Example",
      "provenance": [],
      "collapsed_sections": []
    },
    "kernelspec": {
      "name": "python3",
      "display_name": "Python 3"
    },
    "accelerator": "GPU"
  },
  "cells": [
    {
      "cell_type": "code",
      "metadata": {
        "id": "ZQPjQivwywhV",
        "colab_type": "code",
        "colab": {}
      },
      "source": [
        "!nvidia-smi\n",
        "# Download image and class labels\n",
        "!wget https://raw.githubusercontent.com/lukemelas/EfficientNet-PyTorch/master/examples/simple/img.jpg\n",
        "!wget https://raw.githubusercontent.com/lukemelas/EfficientNet-PyTorch/master/examples/simple/labels_map.txt"
      ],
      "execution_count": 0,
      "outputs": []
    },
    {
      "cell_type": "code",
      "metadata": {
        "id": "Ma1EIr7UyCOE",
        "colab_type": "code",
        "colab": {}
      },
      "source": [
        "# Get EfficientNet PyTorch\n",
        "!pip install efficientnet_pytorch"
      ],
      "execution_count": 0,
      "outputs": []
    },
    {
      "cell_type": "code",
      "metadata": {
        "id": "MpcopDTyyFzR",
        "colab_type": "code",
        "colab": {}
      },
      "source": [
        "import json\n",
        "from PIL import Image\n",
        "\n",
        "import torch\n",
        "from torchvision import transforms\n",
        "\n",
        "from efficientnet_pytorch import EfficientNet"
      ],
      "execution_count": 0,
      "outputs": []
    },
    {
      "cell_type": "code",
      "metadata": {
        "id": "Y5D5FWdfyFma",
        "colab_type": "code",
        "colab": {}
      },
      "source": [
        "model_name = 'efficientnet-b0'\n",
        "image_size = EfficientNet.get_image_size(model_name) # 224"
      ],
      "execution_count": 0,
      "outputs": []
    },
    {
      "cell_type": "code",
      "metadata": {
        "id": "sb13T_M0yFb1",
        "colab_type": "code",
        "colab": {}
      },
      "source": [
        "img = Image.open('img.jpg')\n",
        "img"
      ],
      "execution_count": 0,
      "outputs": []
    },
    {
      "cell_type": "code",
      "metadata": {
        "id": "RzgmGb73yFNj",
        "colab_type": "code",
        "colab": {}
      },
      "source": [
        "# Preprocess image\n",
        "tfms = transforms.Compose([transforms.Resize(image_size), transforms.CenterCrop(image_size), \n",
        "                           transforms.ToTensor(),\n",
        "                           transforms.Normalize([0.485, 0.456, 0.406], [0.229, 0.224, 0.225]),])\n",
        "img = tfms(img).unsqueeze(0)"
      ],
      "execution_count": 0,
      "outputs": []
    },
    {
      "cell_type": "code",
      "metadata": {
        "id": "OeK5JBQ8yE-Y",
        "colab_type": "code",
        "colab": {}
      },
      "source": [
        "# Load class names\n",
        "labels_map = json.load(open('labels_map.txt'))\n",
        "labels_map = [labels_map[str(i)] for i in range(1000)]"
      ],
      "execution_count": 0,
      "outputs": []
    },
    {
      "cell_type": "code",
      "metadata": {
        "id": "PfDtoYnlzP9m",
        "colab_type": "code",
        "colab": {}
      },
      "source": [
        "# Classify with EfficientNet\n",
        "model = EfficientNet.from_pretrained(model_name)\n",
        "model.eval()\n",
        "with torch.no_grad():\n",
        "    logits = model(img)\n",
        "preds = torch.topk(logits, k=5).indices.squeeze(0).tolist()\n",
        "\n",
        "print('-----')\n",
        "for idx in preds:\n",
        "    label = labels_map[idx]\n",
        "    prob = torch.softmax(logits, dim=1)[0, idx].item()\n",
        "    print('{:<75} ({:.2f}%)'.format(label, prob*100))\n",
        "\n",
        "# How to profiling layer-by-layer in Pytroch?\n",
        "with torch.autograd.profiler.profile(use_cuda=True) as prof:\n",
        "    model(img)\n",
        "print(prof) "
      ],
      "execution_count": 0,
      "outputs": []
    }
  ]
}