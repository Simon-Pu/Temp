{
  "nbformat": 4,
  "nbformat_minor": 0,
  "metadata": {
    "accelerator": "GPU",
    "colab": {
      "name": "image-to-painting-prog.ipynb",
      "provenance": [],
      "collapsed_sections": [],
      "include_colab_link": true
    },
    "kernelspec": {
      "display_name": "Python 3",
      "name": "python3"
    }
  },
  "cells": [
    {
      "cell_type": "markdown",
      "metadata": {
        "id": "view-in-github",
        "colab_type": "text"
      },
      "source": [
        "<a href=\"https://colab.research.google.com/github/Simon-Pu/Temp/blob/master/image_to_painting_prog.ipynb\" target=\"_parent\"><img src=\"https://colab.research.google.com/assets/colab-badge.svg\" alt=\"Open In Colab\"/></a>"
      ]
    },
    {
      "cell_type": "markdown",
      "metadata": {
        "id": "oWd5TrA86niT"
      },
      "source": [
        "This notebook provides a minimal working example of the image-to-painting translation (progressive rendering) in the preprint paper \"Stylized Neural Painting, arXiv:2011.08114.\"\n",
        "\n",
        "[Project Page](https://jiupinjia.github.io/neuralpainter/) | [GitHub](https://github.com/jiupinjia/stylized-neural-painting) | [Preprint](https://arxiv.org/abs/2011.08114)"
      ]
    },
    {
      "cell_type": "markdown",
      "metadata": {
        "id": "LFLeFyHW7AfS"
      },
      "source": [
        "<a rel=\"license\" href=\"http://creativecommons.org/licenses/by-nc-sa/4.0/\"><img alt=\"Creative Commons License\" style=\"border-width:0\" src=\"https://i.creativecommons.org/l/by-nc-sa/4.0/88x31.png\" /></a><span xmlns:dct=\"http://purl.org/dc/terms/\" property=\"dct:title\">   The project </a> is licensed under a <a rel=\"license\" href=\"http://creativecommons.org/licenses/by-nc-sa/4.0/\">Creative Commons Attribution-NonCommercial-ShareAlike 4.0 International License</a>."
      ]
    },
    {
      "cell_type": "code",
      "metadata": {
        "id": "Xd4A-BaHGAKL"
      },
      "source": [
        "!nvidia-smi"
      ],
      "execution_count": null,
      "outputs": []
    },
    {
      "cell_type": "code",
      "metadata": {
        "id": "h72s1Mk26j4V"
      },
      "source": [
        "# Clone the repository\n",
        "!git clone https://github.com/jiupinjia/stylized-neural-painting"
      ],
      "execution_count": null,
      "outputs": []
    },
    {
      "cell_type": "code",
      "metadata": {
        "id": "t6-_ChnK7F6I"
      },
      "source": [
        "cd stylized-neural-painting"
      ],
      "execution_count": null,
      "outputs": []
    },
    {
      "cell_type": "code",
      "metadata": {
        "id": "eD8de5Il7JdO"
      },
      "source": [
        "import argparse\n",
        "\n",
        "import torch\n",
        "torch.cuda.current_device()\n",
        "import torch.optim as optim\n",
        "\n",
        "from painter import *\n",
        "# Decide which device we want to run on\n",
        "device = torch.device(\"cuda:0\" if torch.cuda.is_available() else \"cpu\")"
      ],
      "execution_count": null,
      "outputs": []
    },
    {
      "cell_type": "code",
      "metadata": {
        "id": "aKwqMi8f7Rc3"
      },
      "source": [
        "# settings\n",
        "parser = argparse.ArgumentParser(description='STYLIZED NEURAL PAINTING')\n",
        "args = parser.parse_args(args=[])\n",
        "args.img_path = './test_images/800_607.jpeg' # path to input photo\n",
        "args.renderer = 'oilpaintbrush' # [watercolor, markerpen, oilpaintbrush, rectangle]\n",
        "args.canvas_color = 'black' # [black, white]\n",
        "args.canvas_size = 512 # size of the canvas for stroke rendering'\n",
        "args.keep_aspect_ratio = True # whether to keep input aspect ratio when saving outputs\n",
        "args.max_m_strokes = 3000 # max number of strokes\n",
        "args.max_divide = 6 # divide an image up-to max_divide x max_divide patches\n",
        "args.beta_L1 = 1.0 # weight for L1 loss\n",
        "args.with_ot_loss = True # set True for imporving the convergence by using optimal transportation loss, but will slow-down the speed\n",
        "args.beta_ot = 0.1 # weight for optimal transportation loss\n",
        "args.net_G = 'zou-fusion-net' # renderer architecture\n",
        "args.renderer_checkpoint_dir = './checkpoints_G_oilpaintbrush' # dir to load the pretrained neu-renderer\n",
        "args.lr = 0.005 # learning rate for stroke searching\n",
        "args.output_dir = './output' # dir to save painting results\n",
        "args.disable_preview = True # disable cv2.imshow, for running remotely without x-display"
      ],
      "execution_count": null,
      "outputs": []
    },
    {
      "cell_type": "markdown",
      "metadata": {
        "id": "45lJrGta9q8c"
      },
      "source": [
        "Download pretrained neural renderer."
      ]
    },
    {
      "cell_type": "code",
      "metadata": {
        "id": "AacGoBYL7eBW"
      },
      "source": [
        "# Define some helper functions for downloading pretrained model\n",
        "# taken from this StackOverflow answer: https://stackoverflow.com/a/39225039\n",
        "import requests\n",
        "\n",
        "def download_file_from_google_drive(id, destination):\n",
        "    URL = \"https://docs.google.com/uc?export=download\"\n",
        "\n",
        "    session = requests.Session()\n",
        "\n",
        "    response = session.get(URL, params = { 'id' : id }, stream = True)\n",
        "    token = get_confirm_token(response)\n",
        "\n",
        "    if token:\n",
        "        params = { 'id' : id, 'confirm' : token }\n",
        "        response = session.get(URL, params = params, stream = True)\n",
        "\n",
        "    save_response_content(response, destination)    \n",
        "\n",
        "def get_confirm_token(response):\n",
        "    for key, value in response.cookies.items():\n",
        "        if key.startswith('download_warning'):\n",
        "            return value\n",
        "\n",
        "    return None\n",
        "\n",
        "def save_response_content(response, destination):\n",
        "    CHUNK_SIZE = 32768\n",
        "\n",
        "    with open(destination, \"wb\") as f:\n",
        "        for chunk in response.iter_content(CHUNK_SIZE):\n",
        "            if chunk: # filter out keep-alive new chunks\n",
        "                f.write(chunk)"
      ],
      "execution_count": null,
      "outputs": []
    },
    {
      "cell_type": "code",
      "metadata": {
        "id": "PB8HHMZ39wSM"
      },
      "source": [
        "# download and unzip...\n",
        "file_id = '1sqWhgBKqaBJggl2A8sD1bLSq2_B1ScMG'\n",
        "destination = './checkpoints_G_oilpaintbrush.zip'\n",
        "download_file_from_google_drive(file_id, destination)"
      ],
      "execution_count": null,
      "outputs": []
    },
    {
      "cell_type": "code",
      "metadata": {
        "id": "EgtDkyl5-BWW"
      },
      "source": [
        "!unzip checkpoints_G_oilpaintbrush.zip"
      ],
      "execution_count": null,
      "outputs": []
    },
    {
      "cell_type": "markdown",
      "metadata": {
        "id": "QghTf9-I-J-k"
      },
      "source": [
        "Define the optimization loop the painter"
      ]
    },
    {
      "cell_type": "code",
      "metadata": {
        "id": "tAHf_4Tc-Dyv"
      },
      "source": [
        "def optimize_x(pt):\n",
        "\n",
        "    pt._load_checkpoint()\n",
        "    pt.net_G.eval()\n",
        "\n",
        "    print('begin drawing...')\n",
        "\n",
        "    PARAMS = np.zeros([1, 0, pt.rderr.d], np.float32)\n",
        "\n",
        "    if pt.rderr.canvas_color == 'white':\n",
        "        CANVAS_tmp = torch.ones([1, 3, 128, 128]).to(device)\n",
        "    else:\n",
        "        CANVAS_tmp = torch.zeros([1, 3, 128, 128]).to(device)\n",
        "\n",
        "    for pt.m_grid in range(1, pt.max_divide + 1):\n",
        "\n",
        "        pt.img_batch = utils.img2patches(pt.img_, pt.m_grid, pt.net_G.out_size).to(device)\n",
        "        pt.G_final_pred_canvas = CANVAS_tmp\n",
        "\n",
        "        pt.initialize_params()\n",
        "        pt.x_ctt.requires_grad = True\n",
        "        pt.x_color.requires_grad = True\n",
        "        pt.x_alpha.requires_grad = True\n",
        "        utils.set_requires_grad(pt.net_G, False)\n",
        "\n",
        "        pt.optimizer_x = optim.RMSprop([pt.x_ctt, pt.x_color, pt.x_alpha], lr=pt.lr, centered=True)\n",
        "\n",
        "        pt.step_id = 0\n",
        "        for pt.anchor_id in range(0, pt.m_strokes_per_block):\n",
        "            pt.stroke_sampler(pt.anchor_id)\n",
        "            iters_per_stroke = int(500 / pt.m_strokes_per_block)\n",
        "            for i in range(iters_per_stroke):\n",
        "                pt.G_pred_canvas = CANVAS_tmp\n",
        "\n",
        "                # update x\n",
        "                pt.optimizer_x.zero_grad()\n",
        "\n",
        "                pt.x_ctt.data = torch.clamp(pt.x_ctt.data, 0.1, 1 - 0.1)\n",
        "                pt.x_color.data = torch.clamp(pt.x_color.data, 0, 1)\n",
        "                pt.x_alpha.data = torch.clamp(pt.x_alpha.data, 0, 1)\n",
        "\n",
        "                pt._forward_pass()\n",
        "                pt._drawing_step_states()\n",
        "                pt._backward_x()\n",
        "\n",
        "                pt.x_ctt.data = torch.clamp(pt.x_ctt.data, 0.1, 1 - 0.1)\n",
        "                pt.x_color.data = torch.clamp(pt.x_color.data, 0, 1)\n",
        "                pt.x_alpha.data = torch.clamp(pt.x_alpha.data, 0, 1)\n",
        "\n",
        "                pt.optimizer_x.step()\n",
        "                pt.step_id += 1\n",
        "\n",
        "        v = pt._normalize_strokes(pt.x)\n",
        "        v = pt._shuffle_strokes_and_reshape(v)\n",
        "        PARAMS = np.concatenate([PARAMS, v], axis=1)\n",
        "        CANVAS_tmp = pt._render(PARAMS, save_jpgs=False, save_video=False)\n",
        "        CANVAS_tmp = utils.img2patches(CANVAS_tmp, pt.m_grid + 1, pt.net_G.out_size).to(device)\n",
        "\n",
        "    pt._save_stroke_params(PARAMS)\n",
        "    final_rendered_image = pt._render(PARAMS, save_jpgs=False, save_video=True)\n",
        "    del CANVAS_tmp\n",
        "    del PARAMS\n",
        "    return final_rendered_image"
      ],
      "execution_count": null,
      "outputs": []
    },
    {
      "cell_type": "markdown",
      "metadata": {
        "id": "b_QxLKdc-7nr"
      },
      "source": [
        "Now you can process your image"
      ]
    },
    {
      "cell_type": "code",
      "metadata": {
        "id": "7yGUv65G-UCm"
      },
      "source": [
        "pt = ProgressivePainter(args=args)\n",
        "final_rendered_image = optimize_x(pt)"
      ],
      "execution_count": null,
      "outputs": []
    },
    {
      "cell_type": "markdown",
      "metadata": {
        "id": "-p4XHLUh_ppN"
      },
      "source": [
        "Check out your animated results at args.output_dir. Before you download that folder, let's first have a look at what the generated painting looks like."
      ]
    },
    {
      "cell_type": "code",
      "metadata": {
        "id": "lmYpxdcW_Azv"
      },
      "source": [
        "plt.imshow(final_rendered_image), plt.title('Stylized Neural Painting')\n",
        "plt.axis(\"off\")\n",
        "plt.show()\n",
        "#plt.savefig('Test02.png')\n",
        "#del pt\n",
        "#del final_rendered_image"
      ],
      "execution_count": null,
      "outputs": []
    }
  ]
}